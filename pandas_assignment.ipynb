{
 "cells": [
  {
   "cell_type": "code",
   "execution_count": 33,
   "id": "9db365cc-3b87-4247-b346-ad636fc7c320",
   "metadata": {},
   "outputs": [
    {
     "data": {
      "text/plain": [
       "pandas.core.series.Series"
      ]
     },
     "execution_count": 33,
     "metadata": {},
     "output_type": "execute_result"
    }
   ],
   "source": [
    "#Answer_1\n",
    "\n",
    "import pandas as pd \n",
    "list =[4,8,15,16,23,42]\n",
    "series=pd.Series(list)\n",
    "type(series)"
   ]
  },
  {
   "cell_type": "code",
   "execution_count": 20,
   "id": "38be07bc-2783-440c-aea2-06dcfc9f9591",
   "metadata": {},
   "outputs": [
    {
     "name": "stdout",
     "output_type": "stream",
     "text": [
      "0     4\n",
      "1     8\n",
      "2    15\n",
      "3    16\n",
      "4    23\n",
      "5    42\n",
      "dtype: int64\n"
     ]
    }
   ],
   "source": [
    "print(series)"
   ]
  },
  {
   "cell_type": "code",
   "execution_count": 34,
   "id": "4a431896-89a0-448e-ab01-6df6567c1331",
   "metadata": {},
   "outputs": [
    {
     "data": {
      "text/plain": [
       "pandas.core.series.Series"
      ]
     },
     "execution_count": 34,
     "metadata": {},
     "output_type": "execute_result"
    }
   ],
   "source": [
    "#Answer_2\n",
    "\n",
    "list_type_var=[1,2,3,4,5,6,7,8,9,10]\n",
    "list_series=pd.Series(list_type_var)\n",
    "type(list_series)"
   ]
  },
  {
   "cell_type": "code",
   "execution_count": 26,
   "id": "be3f9556-8d36-4971-8520-b709b5c202e6",
   "metadata": {},
   "outputs": [
    {
     "name": "stdout",
     "output_type": "stream",
     "text": [
      "0     1\n",
      "1     2\n",
      "2     3\n",
      "3     4\n",
      "4     5\n",
      "5     6\n",
      "6     7\n",
      "7     8\n",
      "8     9\n",
      "9    10\n",
      "dtype: int64\n"
     ]
    }
   ],
   "source": [
    "print(list_series)"
   ]
  },
  {
   "cell_type": "code",
   "execution_count": 36,
   "id": "870e0901-ff23-4ae0-8347-b40e43d89e58",
   "metadata": {},
   "outputs": [
    {
     "data": {
      "text/plain": [
       "pandas.core.frame.DataFrame"
      ]
     },
     "execution_count": 36,
     "metadata": {},
     "output_type": "execute_result"
    }
   ],
   "source": [
    "#Answer_3\n",
    "\n",
    "person_data_info={'name':['Alice','Bob','Claire'],'Age':[25,30,27],'Gender':['Female','Male','Female']}\n",
    "person_dataframe=pd.DataFrame(person_data_info)\n",
    "type(person_dataframe)"
   ]
  },
  {
   "cell_type": "code",
   "execution_count": 31,
   "id": "0bd7609a-d688-4760-b653-d2df9fb9b174",
   "metadata": {},
   "outputs": [
    {
     "data": {
      "text/html": [
       "<div>\n",
       "<style scoped>\n",
       "    .dataframe tbody tr th:only-of-type {\n",
       "        vertical-align: middle;\n",
       "    }\n",
       "\n",
       "    .dataframe tbody tr th {\n",
       "        vertical-align: top;\n",
       "    }\n",
       "\n",
       "    .dataframe thead th {\n",
       "        text-align: right;\n",
       "    }\n",
       "</style>\n",
       "<table border=\"1\" class=\"dataframe\">\n",
       "  <thead>\n",
       "    <tr style=\"text-align: right;\">\n",
       "      <th></th>\n",
       "      <th>name</th>\n",
       "      <th>Age</th>\n",
       "      <th>Gender</th>\n",
       "    </tr>\n",
       "  </thead>\n",
       "  <tbody>\n",
       "    <tr>\n",
       "      <th>0</th>\n",
       "      <td>Alice</td>\n",
       "      <td>25</td>\n",
       "      <td>Female</td>\n",
       "    </tr>\n",
       "    <tr>\n",
       "      <th>1</th>\n",
       "      <td>Bob</td>\n",
       "      <td>30</td>\n",
       "      <td>Male</td>\n",
       "    </tr>\n",
       "    <tr>\n",
       "      <th>2</th>\n",
       "      <td>Claire</td>\n",
       "      <td>27</td>\n",
       "      <td>Female</td>\n",
       "    </tr>\n",
       "  </tbody>\n",
       "</table>\n",
       "</div>"
      ],
      "text/plain": [
       "     name  Age  Gender\n",
       "0   Alice   25  Female\n",
       "1     Bob   30    Male\n",
       "2  Claire   27  Female"
      ]
     },
     "execution_count": 31,
     "metadata": {},
     "output_type": "execute_result"
    }
   ],
   "source": [
    "person_dataframe"
   ]
  },
  {
   "cell_type": "code",
   "execution_count": 39,
   "id": "5e7113f9-5bf3-4432-b9fa-b2cdd52cf3c0",
   "metadata": {},
   "outputs": [],
   "source": [
    "#Answer_4\n",
    "\n",
    "Dataframe can be define as the data which are reperesent in tabular form means rows and columns\n",
    "or 2-D array data structure.\n",
    "\n",
    "# difference between the two structures in a table:\n",
    "\n",
    "             Pandas Series                                                 \t     Pandas DataFrame\n",
    "   * One-dimensional\t                                               * Two-dimensional\n",
    "   * Homogenous – Series elements must be of the same data type.\t   * Heterogenous – DataFrame elements can have different data types.\n",
    "    *Size-immutable – Once created, the size of a Series object        *Size-mutable – Elements can be dropped or added in an existing DataFrame.\n",
    "    cannot be changed.\n",
    "    "
   ]
  },
  {
   "cell_type": "code",
   "execution_count": 3,
   "id": "0fa31d3e-c13a-4a77-9830-f6ff224af3f3",
   "metadata": {},
   "outputs": [
    {
     "data": {
      "text/plain": [
       "pandas.core.frame.DataFrame"
      ]
     },
     "execution_count": 3,
     "metadata": {},
     "output_type": "execute_result"
    }
   ],
   "source": [
    "#example of pandas series and dataframes\n",
    "import pandas as pd\n",
    "student_data={'name':['abhi','sumit','sarthak','pooja','bharti devi'],\n",
    "              'Age':[20,21,18,52,32],\n",
    "              'class':['cse','mechanical','electrical','robotics','web dev']}\n",
    "student_dataframe=pd.DataFrame(student_data)\n",
    "type(student_dataframe)"
   ]
  },
  {
   "cell_type": "code",
   "execution_count": 4,
   "id": "d5362696-7a55-4fa9-b303-aac517bc804e",
   "metadata": {},
   "outputs": [
    {
     "data": {
      "text/html": [
       "<div>\n",
       "<style scoped>\n",
       "    .dataframe tbody tr th:only-of-type {\n",
       "        vertical-align: middle;\n",
       "    }\n",
       "\n",
       "    .dataframe tbody tr th {\n",
       "        vertical-align: top;\n",
       "    }\n",
       "\n",
       "    .dataframe thead th {\n",
       "        text-align: right;\n",
       "    }\n",
       "</style>\n",
       "<table border=\"1\" class=\"dataframe\">\n",
       "  <thead>\n",
       "    <tr style=\"text-align: right;\">\n",
       "      <th></th>\n",
       "      <th>name</th>\n",
       "      <th>Age</th>\n",
       "      <th>class</th>\n",
       "    </tr>\n",
       "  </thead>\n",
       "  <tbody>\n",
       "    <tr>\n",
       "      <th>0</th>\n",
       "      <td>abhi</td>\n",
       "      <td>20</td>\n",
       "      <td>cse</td>\n",
       "    </tr>\n",
       "    <tr>\n",
       "      <th>1</th>\n",
       "      <td>sumit</td>\n",
       "      <td>21</td>\n",
       "      <td>mechanical</td>\n",
       "    </tr>\n",
       "    <tr>\n",
       "      <th>2</th>\n",
       "      <td>sarthak</td>\n",
       "      <td>18</td>\n",
       "      <td>electrical</td>\n",
       "    </tr>\n",
       "    <tr>\n",
       "      <th>3</th>\n",
       "      <td>pooja</td>\n",
       "      <td>52</td>\n",
       "      <td>robotics</td>\n",
       "    </tr>\n",
       "    <tr>\n",
       "      <th>4</th>\n",
       "      <td>bharti devi</td>\n",
       "      <td>32</td>\n",
       "      <td>web dev</td>\n",
       "    </tr>\n",
       "  </tbody>\n",
       "</table>\n",
       "</div>"
      ],
      "text/plain": [
       "          name  Age       class\n",
       "0         abhi   20         cse\n",
       "1        sumit   21  mechanical\n",
       "2      sarthak   18  electrical\n",
       "3        pooja   52    robotics\n",
       "4  bharti devi   32     web dev"
      ]
     },
     "execution_count": 4,
     "metadata": {},
     "output_type": "execute_result"
    }
   ],
   "source": [
    "student_dataframe               #data which are in tabular form or a 2-D array and it contain all type of data ."
   ]
  },
  {
   "cell_type": "code",
   "execution_count": 5,
   "id": "fb5cf66f-d15c-46a4-b3de-db1157febedf",
   "metadata": {},
   "outputs": [
    {
     "name": "stdout",
     "output_type": "stream",
     "text": [
      "0           abhi\n",
      "1          sumit\n",
      "2        sarthak\n",
      "3          pooja\n",
      "4    bharti devi\n",
      "Name: name, dtype: object\n"
     ]
    },
    {
     "data": {
      "text/plain": [
       "pandas.core.series.Series"
      ]
     },
     "execution_count": 5,
     "metadata": {},
     "output_type": "execute_result"
    }
   ],
   "source": [
    "print(student_dataframe['name'])            #data which are in 1-D array and contain only single datatype element\n",
    "type(student_dataframe['name'])"
   ]
  },
  {
   "cell_type": "code",
   "execution_count": 6,
   "id": "9b356159-f6bf-4d76-8eba-edbe5de524aa",
   "metadata": {},
   "outputs": [
    {
     "data": {
      "text/html": [
       "<div>\n",
       "<style scoped>\n",
       "    .dataframe tbody tr th:only-of-type {\n",
       "        vertical-align: middle;\n",
       "    }\n",
       "\n",
       "    .dataframe tbody tr th {\n",
       "        vertical-align: top;\n",
       "    }\n",
       "\n",
       "    .dataframe thead th {\n",
       "        text-align: right;\n",
       "    }\n",
       "</style>\n",
       "<table border=\"1\" class=\"dataframe\">\n",
       "  <thead>\n",
       "    <tr style=\"text-align: right;\">\n",
       "      <th></th>\n",
       "      <th>name</th>\n",
       "      <th>Age</th>\n",
       "      <th>class</th>\n",
       "    </tr>\n",
       "  </thead>\n",
       "  <tbody>\n",
       "    <tr>\n",
       "      <th>0</th>\n",
       "      <td>abhi</td>\n",
       "      <td>20</td>\n",
       "      <td>cse</td>\n",
       "    </tr>\n",
       "    <tr>\n",
       "      <th>1</th>\n",
       "      <td>sumit</td>\n",
       "      <td>21</td>\n",
       "      <td>mechanical</td>\n",
       "    </tr>\n",
       "    <tr>\n",
       "      <th>2</th>\n",
       "      <td>sarthak</td>\n",
       "      <td>18</td>\n",
       "      <td>electrical</td>\n",
       "    </tr>\n",
       "  </tbody>\n",
       "</table>\n",
       "</div>"
      ],
      "text/plain": [
       "      name  Age       class\n",
       "0     abhi   20         cse\n",
       "1    sumit   21  mechanical\n",
       "2  sarthak   18  electrical"
      ]
     },
     "execution_count": 6,
     "metadata": {},
     "output_type": "execute_result"
    }
   ],
   "source": [
    "#Answer_5\n",
    "\n",
    "student_dataframe\n",
    "\n",
    "#now we use comman function to manipulate data in dataframe\n",
    "student_dataframe.head(3)        #if we need to only first three row of data"
   ]
  },
  {
   "cell_type": "code",
   "execution_count": 7,
   "id": "aca4894f-df6a-4705-9a78-8f3f014cf056",
   "metadata": {},
   "outputs": [
    {
     "data": {
      "text/html": [
       "<div>\n",
       "<style scoped>\n",
       "    .dataframe tbody tr th:only-of-type {\n",
       "        vertical-align: middle;\n",
       "    }\n",
       "\n",
       "    .dataframe tbody tr th {\n",
       "        vertical-align: top;\n",
       "    }\n",
       "\n",
       "    .dataframe thead th {\n",
       "        text-align: right;\n",
       "    }\n",
       "</style>\n",
       "<table border=\"1\" class=\"dataframe\">\n",
       "  <thead>\n",
       "    <tr style=\"text-align: right;\">\n",
       "      <th></th>\n",
       "      <th>name</th>\n",
       "      <th>Age</th>\n",
       "      <th>class</th>\n",
       "    </tr>\n",
       "  </thead>\n",
       "  <tbody>\n",
       "    <tr>\n",
       "      <th>3</th>\n",
       "      <td>pooja</td>\n",
       "      <td>52</td>\n",
       "      <td>robotics</td>\n",
       "    </tr>\n",
       "    <tr>\n",
       "      <th>4</th>\n",
       "      <td>bharti devi</td>\n",
       "      <td>32</td>\n",
       "      <td>web dev</td>\n",
       "    </tr>\n",
       "  </tbody>\n",
       "</table>\n",
       "</div>"
      ],
      "text/plain": [
       "          name  Age     class\n",
       "3        pooja   52  robotics\n",
       "4  bharti devi   32   web dev"
      ]
     },
     "execution_count": 7,
     "metadata": {},
     "output_type": "execute_result"
    }
   ],
   "source": [
    "student_dataframe.tail(2)          #we use this function to get last two rows of data "
   ]
  },
  {
   "cell_type": "code",
   "execution_count": 8,
   "id": "06fafcd5-0a42-4bc1-97a0-27a15a885537",
   "metadata": {},
   "outputs": [
    {
     "data": {
      "text/plain": [
       "Index(['name', 'Age', 'class'], dtype='object')"
      ]
     },
     "execution_count": 8,
     "metadata": {},
     "output_type": "execute_result"
    }
   ],
   "source": [
    "student_dataframe.columns           #this method is used get columns name of the dataframe"
   ]
  },
  {
   "cell_type": "code",
   "execution_count": 9,
   "id": "c717546a-2c35-417d-9f3c-955a87f71e4f",
   "metadata": {},
   "outputs": [
    {
     "data": {
      "text/plain": [
       "0           abhi\n",
       "1          sumit\n",
       "2        sarthak\n",
       "3          pooja\n",
       "4    bharti devi\n",
       "Name: name, dtype: object"
      ]
     },
     "execution_count": 9,
     "metadata": {},
     "output_type": "execute_result"
    }
   ],
   "source": [
    "student_dataframe['name'] #when we need only one column data"
   ]
  },
  {
   "cell_type": "code",
   "execution_count": 10,
   "id": "929523f8-1c1d-4d43-9e9f-e7b9315646d1",
   "metadata": {},
   "outputs": [
    {
     "data": {
      "text/html": [
       "<div>\n",
       "<style scoped>\n",
       "    .dataframe tbody tr th:only-of-type {\n",
       "        vertical-align: middle;\n",
       "    }\n",
       "\n",
       "    .dataframe tbody tr th {\n",
       "        vertical-align: top;\n",
       "    }\n",
       "\n",
       "    .dataframe thead th {\n",
       "        text-align: right;\n",
       "    }\n",
       "</style>\n",
       "<table border=\"1\" class=\"dataframe\">\n",
       "  <thead>\n",
       "    <tr style=\"text-align: right;\">\n",
       "      <th></th>\n",
       "      <th>Age</th>\n",
       "      <th>name</th>\n",
       "    </tr>\n",
       "  </thead>\n",
       "  <tbody>\n",
       "    <tr>\n",
       "      <th>0</th>\n",
       "      <td>20</td>\n",
       "      <td>abhi</td>\n",
       "    </tr>\n",
       "    <tr>\n",
       "      <th>1</th>\n",
       "      <td>21</td>\n",
       "      <td>sumit</td>\n",
       "    </tr>\n",
       "    <tr>\n",
       "      <th>2</th>\n",
       "      <td>18</td>\n",
       "      <td>sarthak</td>\n",
       "    </tr>\n",
       "    <tr>\n",
       "      <th>3</th>\n",
       "      <td>52</td>\n",
       "      <td>pooja</td>\n",
       "    </tr>\n",
       "    <tr>\n",
       "      <th>4</th>\n",
       "      <td>32</td>\n",
       "      <td>bharti devi</td>\n",
       "    </tr>\n",
       "  </tbody>\n",
       "</table>\n",
       "</div>"
      ],
      "text/plain": [
       "   Age         name\n",
       "0   20         abhi\n",
       "1   21        sumit\n",
       "2   18      sarthak\n",
       "3   52        pooja\n",
       "4   32  bharti devi"
      ]
     },
     "execution_count": 10,
     "metadata": {},
     "output_type": "execute_result"
    }
   ],
   "source": [
    "student_dataframe[['Age','name']]       #when we need multiple column data "
   ]
  },
  {
   "cell_type": "code",
   "execution_count": 17,
   "id": "495afed5-38ca-4bb1-b9ba-00af3acafb74",
   "metadata": {},
   "outputs": [
    {
     "data": {
      "text/html": [
       "<div>\n",
       "<style scoped>\n",
       "    .dataframe tbody tr th:only-of-type {\n",
       "        vertical-align: middle;\n",
       "    }\n",
       "\n",
       "    .dataframe tbody tr th {\n",
       "        vertical-align: top;\n",
       "    }\n",
       "\n",
       "    .dataframe thead th {\n",
       "        text-align: right;\n",
       "    }\n",
       "</style>\n",
       "<table border=\"1\" class=\"dataframe\">\n",
       "  <thead>\n",
       "    <tr style=\"text-align: right;\">\n",
       "      <th></th>\n",
       "      <th>Age</th>\n",
       "      <th>name</th>\n",
       "      <th>class</th>\n",
       "      <th>salary</th>\n",
       "    </tr>\n",
       "  </thead>\n",
       "  <tbody>\n",
       "    <tr>\n",
       "      <th>0</th>\n",
       "      <td>20</td>\n",
       "      <td>abhi</td>\n",
       "      <td>cse</td>\n",
       "      <td>NaN</td>\n",
       "    </tr>\n",
       "    <tr>\n",
       "      <th>1</th>\n",
       "      <td>21</td>\n",
       "      <td>sumit</td>\n",
       "      <td>mechanical</td>\n",
       "      <td>NaN</td>\n",
       "    </tr>\n",
       "    <tr>\n",
       "      <th>2</th>\n",
       "      <td>18</td>\n",
       "      <td>sarthak</td>\n",
       "      <td>electrical</td>\n",
       "      <td>NaN</td>\n",
       "    </tr>\n",
       "  </tbody>\n",
       "</table>\n",
       "</div>"
      ],
      "text/plain": [
       "   Age     name       class  salary\n",
       "0   20     abhi         cse     NaN\n",
       "1   21    sumit  mechanical     NaN\n",
       "2   18  sarthak  electrical     NaN"
      ]
     },
     "execution_count": 17,
     "metadata": {},
     "output_type": "execute_result"
    }
   ],
   "source": [
    "from pandas import DataFrame\n",
    "subset_dataframe=DataFrame(student_dataframe,columns=['Age','name','class','salary'])\n",
    "subset_dataframe.head(3)               #it give orders to the columns name as give by you"
   ]
  },
  {
   "cell_type": "code",
   "execution_count": 18,
   "id": "3e7a951b-cbeb-4436-ab69-c7b1c717927c",
   "metadata": {},
   "outputs": [
    {
     "data": {
      "text/plain": [
       "Index(['Age', 'name', 'class', 'salary'], dtype='object')"
      ]
     },
     "execution_count": 18,
     "metadata": {},
     "output_type": "execute_result"
    }
   ],
   "source": [
    "subset_dataframe.columns   #we added new column name at runtime "
   ]
  },
  {
   "cell_type": "code",
   "execution_count": 21,
   "id": "89afd0e1-4c62-4ca7-a5e9-a0319ccd5b19",
   "metadata": {},
   "outputs": [
    {
     "data": {
      "text/plain": [
       "0           abhi\n",
       "1          sumit\n",
       "2        sarthak\n",
       "3          pooja\n",
       "4    bharti devi\n",
       "Name: name, dtype: object"
      ]
     },
     "execution_count": 21,
     "metadata": {},
     "output_type": "execute_result"
    }
   ],
   "source": [
    "subset_dataframe.name      #we can access column data by using dot operator\n"
   ]
  },
  {
   "cell_type": "code",
   "execution_count": 24,
   "id": "bf896e79-fdf8-4585-94ca-d24bb440c7b1",
   "metadata": {},
   "outputs": [],
   "source": [
    "del student_dataframe['class']      #if delete any column in dataframe"
   ]
  },
  {
   "cell_type": "code",
   "execution_count": 26,
   "id": "a17fccd3-15cd-4c22-b8c2-538ab254fe4b",
   "metadata": {},
   "outputs": [],
   "source": [
    "student_dataframe=subset_dataframe"
   ]
  },
  {
   "cell_type": "code",
   "execution_count": 27,
   "id": "874960d2-002c-46ab-bc88-6295eae123fe",
   "metadata": {},
   "outputs": [
    {
     "data": {
      "text/html": [
       "<div>\n",
       "<style scoped>\n",
       "    .dataframe tbody tr th:only-of-type {\n",
       "        vertical-align: middle;\n",
       "    }\n",
       "\n",
       "    .dataframe tbody tr th {\n",
       "        vertical-align: top;\n",
       "    }\n",
       "\n",
       "    .dataframe thead th {\n",
       "        text-align: right;\n",
       "    }\n",
       "</style>\n",
       "<table border=\"1\" class=\"dataframe\">\n",
       "  <thead>\n",
       "    <tr style=\"text-align: right;\">\n",
       "      <th></th>\n",
       "      <th>Age</th>\n",
       "      <th>name</th>\n",
       "      <th>salary</th>\n",
       "    </tr>\n",
       "  </thead>\n",
       "  <tbody>\n",
       "    <tr>\n",
       "      <th>0</th>\n",
       "      <td>20</td>\n",
       "      <td>abhi</td>\n",
       "      <td>NaN</td>\n",
       "    </tr>\n",
       "    <tr>\n",
       "      <th>1</th>\n",
       "      <td>21</td>\n",
       "      <td>sumit</td>\n",
       "      <td>NaN</td>\n",
       "    </tr>\n",
       "    <tr>\n",
       "      <th>2</th>\n",
       "      <td>18</td>\n",
       "      <td>sarthak</td>\n",
       "      <td>NaN</td>\n",
       "    </tr>\n",
       "    <tr>\n",
       "      <th>3</th>\n",
       "      <td>52</td>\n",
       "      <td>pooja</td>\n",
       "      <td>NaN</td>\n",
       "    </tr>\n",
       "    <tr>\n",
       "      <th>4</th>\n",
       "      <td>32</td>\n",
       "      <td>bharti devi</td>\n",
       "      <td>NaN</td>\n",
       "    </tr>\n",
       "  </tbody>\n",
       "</table>\n",
       "</div>"
      ],
      "text/plain": [
       "   Age         name  salary\n",
       "0   20         abhi     NaN\n",
       "1   21        sumit     NaN\n",
       "2   18      sarthak     NaN\n",
       "3   52        pooja     NaN\n",
       "4   32  bharti devi     NaN"
      ]
     },
     "execution_count": 27,
     "metadata": {},
     "output_type": "execute_result"
    }
   ],
   "source": [
    "student_dataframe"
   ]
  },
  {
   "cell_type": "code",
   "execution_count": null,
   "id": "fbf52d72-ec37-45b2-a4d6-fda1af171106",
   "metadata": {},
   "outputs": [],
   "source": [
    "#Answer_6\n",
    "\n",
    "Dataframe and panel are the size mutable in nature but series not a mutable .\n",
    "\n",
    "MutabilityAll Pandas data structures are value mutable (can be changed) and except Series.\n",
    "Series is size immutable.\n",
    "Note − DataFrame is widely used and one of the most important data structures.\n",
    "Panel is used much less.\n"
   ]
  },
  {
   "cell_type": "code",
   "execution_count": 47,
   "id": "f03d3b8d-57da-496a-a8f2-047bbf3ca176",
   "metadata": {},
   "outputs": [
    {
     "data": {
      "text/html": [
       "<div>\n",
       "<style scoped>\n",
       "    .dataframe tbody tr th:only-of-type {\n",
       "        vertical-align: middle;\n",
       "    }\n",
       "\n",
       "    .dataframe tbody tr th {\n",
       "        vertical-align: top;\n",
       "    }\n",
       "\n",
       "    .dataframe thead th {\n",
       "        text-align: right;\n",
       "    }\n",
       "</style>\n",
       "<table border=\"1\" class=\"dataframe\">\n",
       "  <thead>\n",
       "    <tr style=\"text-align: right;\">\n",
       "      <th></th>\n",
       "      <th>Name</th>\n",
       "      <th>Class</th>\n",
       "      <th>Gender</th>\n",
       "      <th>salary</th>\n",
       "    </tr>\n",
       "  </thead>\n",
       "  <tbody>\n",
       "    <tr>\n",
       "      <th>1</th>\n",
       "      <td>a</td>\n",
       "      <td>1</td>\n",
       "      <td>F</td>\n",
       "      <td>a</td>\n",
       "    </tr>\n",
       "    <tr>\n",
       "      <th>2</th>\n",
       "      <td>b</td>\n",
       "      <td>2</td>\n",
       "      <td>M</td>\n",
       "      <td>b</td>\n",
       "    </tr>\n",
       "    <tr>\n",
       "      <th>3</th>\n",
       "      <td>c</td>\n",
       "      <td>3</td>\n",
       "      <td>F</td>\n",
       "      <td>c</td>\n",
       "    </tr>\n",
       "    <tr>\n",
       "      <th>4</th>\n",
       "      <td>d</td>\n",
       "      <td>4</td>\n",
       "      <td>F</td>\n",
       "      <td>d</td>\n",
       "    </tr>\n",
       "    <tr>\n",
       "      <th>5</th>\n",
       "      <td>d</td>\n",
       "      <td>5</td>\n",
       "      <td>M</td>\n",
       "      <td>d</td>\n",
       "    </tr>\n",
       "  </tbody>\n",
       "</table>\n",
       "</div>"
      ],
      "text/plain": [
       "  Name  Class Gender salary\n",
       "1    a      1      F      a\n",
       "2    b      2      M      b\n",
       "3    c      3      F      c\n",
       "4    d      4      F      d\n",
       "5    d      5      M      d"
      ]
     },
     "execution_count": 47,
     "metadata": {},
     "output_type": "execute_result"
    }
   ],
   "source": [
    "#Answer_7\n",
    "\n",
    "name=['a','b','c','d','d']\n",
    "clas=[1,2,3,4,5]\n",
    "gender=['F','M','F','F','M']\n",
    "index=[1,2,3,4,5]\n",
    "s_name=pd.Series(name,index=index)\n",
    "s_clas=pd.Series(clas,index=index)\n",
    "s_gender=pd.Series(gender,index=index)\n",
    "\n",
    "data_frame={'Name':s_name,'Class':s_clas,'Gender':s_gender}\n",
    "df=pd.DataFrame(data_frame)\n",
    "df['salary']=s_name\n",
    "df"
   ]
  }
 ],
 "metadata": {
  "kernelspec": {
   "display_name": "Python 3 (ipykernel)",
   "language": "python",
   "name": "python3"
  },
  "language_info": {
   "codemirror_mode": {
    "name": "ipython",
    "version": 3
   },
   "file_extension": ".py",
   "mimetype": "text/x-python",
   "name": "python",
   "nbconvert_exporter": "python",
   "pygments_lexer": "ipython3",
   "version": "3.10.8"
  }
 },
 "nbformat": 4,
 "nbformat_minor": 5
}
